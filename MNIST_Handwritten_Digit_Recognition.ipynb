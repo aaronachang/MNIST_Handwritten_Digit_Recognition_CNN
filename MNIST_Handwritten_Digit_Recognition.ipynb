{
  "cells": [
    {
      "cell_type": "markdown",
      "metadata": {
        "id": "view-in-github",
        "colab_type": "text"
      },
      "source": [
        "<a href=\"https://colab.research.google.com/github/aaronachang/MNIST_Handwritten_Digit_Recognition_CNN/blob/master/MNIST_Handwritten_Digit_Recognition.ipynb\" target=\"_parent\"><img src=\"https://colab.research.google.com/assets/colab-badge.svg\" alt=\"Open In Colab\"/></a>"
      ]
    },
    {
      "cell_type": "markdown",
      "metadata": {
        "id": "T2OLmo9ARPR9"
      },
      "source": [
        "Imports"
      ]
    },
    {
      "cell_type": "code",
      "execution_count": 2,
      "metadata": {
        "id": "WrI7d_w64reR"
      },
      "outputs": [],
      "source": [
        "import numpy as np\n",
        "from matplotlib import pyplot as plt\n",
        "from torchvision import datasets, transforms\n",
        "\n",
        "import tqdm\n",
        "\n",
        "import torch\n",
        "from torch import nn\n",
        "from torch import optim\n",
        "import torch.nn.functional as F\n",
        "\n",
        "%matplotlib inline\n",
        "device = (\"cuda\" if torch.cuda.is_available() else \"cpu\")\n",
        "\n",
        "# Calculate mean & std\n",
        "unnormalized_train_set = datasets.MNIST('DATA_MNIST/', train=True, download=True, transform=[transforms.ToTensor()])\n",
        "mean = unnormalized_train_set.data.float().mean()/255\n",
        "std = unnormalized_train_set.data.float().std()/255\n",
        "\n",
        "transform = transforms.Compose([transforms.ToTensor(),\n",
        "                                transforms.Normalize((mean.item(),), (std.item(),))])\n",
        "\n",
        "train_set = datasets.MNIST('DATA_MNIST/', download=True, train=True, transform=transform)\n",
        "trainloader = torch.utils.data.DataLoader(train_set, batch_size=128, shuffle=True, pin_memory=True, num_workers=2)\n",
        "\n",
        "test_set = datasets.MNIST('DATA_MNIST/', download=True, train=False, transform=transform)\n",
        "testloader = torch.utils.data.DataLoader(test_set, batch_size=128, shuffle=False, pin_memory=True, num_workers=2)"
      ]
    },
    {
      "cell_type": "markdown",
      "metadata": {
        "id": "Y9c3oGqKOmhe"
      },
      "source": [
        "LeNet5 from http://yann.lecun.com/exdb/publis/pdf/lecun-98.pdf"
      ]
    },
    {
      "cell_type": "code",
      "execution_count": null,
      "metadata": {
        "id": "JnfUVWQZGKmh"
      },
      "outputs": [],
      "source": [
        "class LeNet5(nn.Module):\n",
        "    def __init__(self):\n",
        "        super(LeNet5, self).__init__()\n",
        "        self.cnn_layers = nn.Sequential(\n",
        "            # formula[(in_channel + 2*padding - kernel_size) / stride] + 1\n",
        "            #1x28x28\n",
        "            nn.Conv2d(in_channels=1, out_channels=6, kernel_size=5, padding=2, stride=1), #6x28x28\n",
        "            nn.ReLU(),\n",
        "            nn.MaxPool2d(kernel_size=2),  #6x14x14\n",
        "            nn.Conv2d(in_channels=6, out_channels=16, kernel_size=5, padding=0, stride=1), #16x10x10\n",
        "            nn.ReLU(),\n",
        "            nn.MaxPool2d(kernel_size=2),  #16x5x5\n",
        "            nn.Conv2d(in_channels=16, out_channels=120, kernel_size=5, padding=0, stride=1), #120x1x1\n",
        "            nn.ReLU(),\n",
        "        )\n",
        "\n",
        "        self.linear_layers = nn.Sequential(\n",
        "            nn.Linear(in_features=120, out_features=84),          \n",
        "            #nn.Dropout(p=0.2), # Dropout with probability of 0.2 to avoid overfitting\n",
        "            nn.Linear(in_features=84, out_features=10)\n",
        "        )\n",
        "\n",
        "    def forward(self, x):\n",
        "        x = self.cnn_layers(x)\n",
        "        x = x.view(x.size(0), -1)\n",
        "        x = self.linear_layers(x)\n",
        "        return x"
      ]
    },
    {
      "cell_type": "code",
      "source": [
        "class BespokeCNN(nn.Module):\n",
        "    def __init__(self):\n",
        "        super(BespokeCNN, self).__init__()\n",
        "        self.cnn_layers = nn.Sequential(\n",
        "            # formula[(in_channel + 2*padding - kernel_size) / stride] + 1\n",
        "            #1x28x28\n",
        "            nn.Conv2d(in_channels=1, out_channels=32, kernel_size=3, padding=0, stride=1), #16x26x26\n",
        "            nn.ReLU(),\n",
        "            nn.Conv2d(in_channels=32, out_channels=64, kernel_size=3, padding=0, stride=1), #32x24x24\n",
        "            nn.ReLU(),\n",
        "            nn.MaxPool2d(kernel_size=2),  #32x12x12\n",
        "            nn.Conv2d(in_channels=64, out_channels=256, kernel_size=3, padding=0, stride=1), #64x10x10\n",
        "            nn.ReLU(),\n",
        "            nn.Conv2d(in_channels=256, out_channels=512, kernel_size=3, padding=0, stride=1), #128x8x8\n",
        "            nn.ReLU(),\n",
        "            nn.MaxPool2d(kernel_size=2),  #256x4x4\n",
        "        )\n",
        "\n",
        "        self.linear_layers = nn.Sequential(\n",
        "            nn.Linear(in_features=512*4*4, out_features=64),          \n",
        "            nn.Dropout(p=0.2), # Dropout with probability of 0.2 to avoid overfitting\n",
        "            nn.Linear(in_features=64, out_features=10)\n",
        "        )\n",
        "\n",
        "    def forward(self, x):\n",
        "        x = self.cnn_layers(x)\n",
        "        x = x.view(x.size(0), -1)\n",
        "        x = self.linear_layers(x)\n",
        "        return x"
      ],
      "metadata": {
        "id": "xcolLm_VRXXD"
      },
      "execution_count": null,
      "outputs": []
    },
    {
      "cell_type": "markdown",
      "metadata": {
        "id": "UDajwx1NR1Lp"
      },
      "source": [
        "Initialize CNN Model"
      ]
    },
    {
      "cell_type": "code",
      "execution_count": null,
      "metadata": {
        "colab": {
          "base_uri": "https://localhost:8080/"
        },
        "id": "pwrb3R8Z7E85",
        "outputId": "04187041-a8f3-4dc4-a7c9-183110b1fa2c"
      },
      "outputs": [
        {
          "output_type": "stream",
          "name": "stdout",
          "text": [
            "LeNet5(\n",
            "  (cnn_layers): Sequential(\n",
            "    (0): Conv2d(1, 6, kernel_size=(5, 5), stride=(1, 1), padding=(2, 2))\n",
            "    (1): ReLU()\n",
            "    (2): MaxPool2d(kernel_size=2, stride=2, padding=0, dilation=1, ceil_mode=False)\n",
            "    (3): Conv2d(6, 16, kernel_size=(5, 5), stride=(1, 1))\n",
            "    (4): ReLU()\n",
            "    (5): MaxPool2d(kernel_size=2, stride=2, padding=0, dilation=1, ceil_mode=False)\n",
            "    (6): Conv2d(16, 120, kernel_size=(5, 5), stride=(1, 1))\n",
            "    (7): ReLU()\n",
            "  )\n",
            "  (linear_layers): Sequential(\n",
            "    (0): Linear(in_features=120, out_features=84, bias=True)\n",
            "    (1): Linear(in_features=84, out_features=10, bias=True)\n",
            "  )\n",
            ")\n"
          ]
        }
      ],
      "source": [
        "model = LeNet5()\n",
        "#model = BespokeCNN()\n",
        "model.to(device)\n",
        "print(model)"
      ]
    },
    {
      "cell_type": "markdown",
      "metadata": {
        "id": "5gGe_NPLR4GN"
      },
      "source": [
        "Train Model"
      ]
    },
    {
      "cell_type": "code",
      "execution_count": null,
      "metadata": {
        "colab": {
          "base_uri": "https://localhost:8080/"
        },
        "id": "rZUtL4a37Ldh",
        "outputId": "6d6efb95-2a5a-4bc4-b8a8-7ef1307c4b5c"
      },
      "outputs": [
        {
          "output_type": "stream",
          "name": "stdout",
          "text": [
            "Epoch: 1/10\n"
          ]
        },
        {
          "output_type": "stream",
          "name": "stderr",
          "text": [
            "100%|██████████| 469/469 [00:19<00:00, 23.84it/s]\n"
          ]
        },
        {
          "output_type": "stream",
          "name": "stdout",
          "text": [
            "Training accuracy: 0.8800\n"
          ]
        },
        {
          "output_type": "stream",
          "name": "stderr",
          "text": [
            "100%|██████████| 79/79 [00:01<00:00, 44.47it/s]\n"
          ]
        },
        {
          "output_type": "stream",
          "name": "stdout",
          "text": [
            "Testing accuracy: 0.9717\n",
            "Epoch: 2/10\n"
          ]
        },
        {
          "output_type": "stream",
          "name": "stderr",
          "text": [
            "100%|██████████| 469/469 [00:10<00:00, 44.61it/s]\n"
          ]
        },
        {
          "output_type": "stream",
          "name": "stdout",
          "text": [
            "Training accuracy: 0.9768\n"
          ]
        },
        {
          "output_type": "stream",
          "name": "stderr",
          "text": [
            "100%|██████████| 79/79 [00:01<00:00, 44.27it/s]\n"
          ]
        },
        {
          "output_type": "stream",
          "name": "stdout",
          "text": [
            "Testing accuracy: 0.9832\n",
            "Epoch: 3/10\n"
          ]
        },
        {
          "output_type": "stream",
          "name": "stderr",
          "text": [
            "100%|██████████| 469/469 [00:11<00:00, 40.71it/s]\n"
          ]
        },
        {
          "output_type": "stream",
          "name": "stdout",
          "text": [
            "Training accuracy: 0.9836\n"
          ]
        },
        {
          "output_type": "stream",
          "name": "stderr",
          "text": [
            "100%|██████████| 79/79 [00:01<00:00, 46.41it/s]\n"
          ]
        },
        {
          "output_type": "stream",
          "name": "stdout",
          "text": [
            "Testing accuracy: 0.9839\n",
            "Epoch: 4/10\n"
          ]
        },
        {
          "output_type": "stream",
          "name": "stderr",
          "text": [
            "100%|██████████| 469/469 [00:10<00:00, 45.58it/s]\n"
          ]
        },
        {
          "output_type": "stream",
          "name": "stdout",
          "text": [
            "Training accuracy: 0.9871\n"
          ]
        },
        {
          "output_type": "stream",
          "name": "stderr",
          "text": [
            "100%|██████████| 79/79 [00:01<00:00, 44.66it/s]\n"
          ]
        },
        {
          "output_type": "stream",
          "name": "stdout",
          "text": [
            "Testing accuracy: 0.9873\n",
            "Epoch: 5/10\n"
          ]
        },
        {
          "output_type": "stream",
          "name": "stderr",
          "text": [
            "100%|██████████| 469/469 [00:10<00:00, 44.50it/s]\n"
          ]
        },
        {
          "output_type": "stream",
          "name": "stdout",
          "text": [
            "Training accuracy: 0.9893\n"
          ]
        },
        {
          "output_type": "stream",
          "name": "stderr",
          "text": [
            "100%|██████████| 79/79 [00:01<00:00, 44.80it/s]\n"
          ]
        },
        {
          "output_type": "stream",
          "name": "stdout",
          "text": [
            "Testing accuracy: 0.9884\n",
            "Epoch: 6/10\n"
          ]
        },
        {
          "output_type": "stream",
          "name": "stderr",
          "text": [
            "100%|██████████| 469/469 [00:10<00:00, 44.31it/s]\n"
          ]
        },
        {
          "output_type": "stream",
          "name": "stdout",
          "text": [
            "Training accuracy: 0.9907\n"
          ]
        },
        {
          "output_type": "stream",
          "name": "stderr",
          "text": [
            "100%|██████████| 79/79 [00:01<00:00, 45.17it/s]\n"
          ]
        },
        {
          "output_type": "stream",
          "name": "stdout",
          "text": [
            "Testing accuracy: 0.9892\n",
            "Epoch: 7/10\n"
          ]
        },
        {
          "output_type": "stream",
          "name": "stderr",
          "text": [
            "100%|██████████| 469/469 [00:10<00:00, 44.57it/s]\n"
          ]
        },
        {
          "output_type": "stream",
          "name": "stdout",
          "text": [
            "Training accuracy: 0.9926\n"
          ]
        },
        {
          "output_type": "stream",
          "name": "stderr",
          "text": [
            "100%|██████████| 79/79 [00:01<00:00, 44.64it/s]\n"
          ]
        },
        {
          "output_type": "stream",
          "name": "stdout",
          "text": [
            "Testing accuracy: 0.9894\n",
            "Epoch: 8/10\n"
          ]
        },
        {
          "output_type": "stream",
          "name": "stderr",
          "text": [
            "100%|██████████| 469/469 [00:10<00:00, 44.23it/s]\n"
          ]
        },
        {
          "output_type": "stream",
          "name": "stdout",
          "text": [
            "Training accuracy: 0.9929\n"
          ]
        },
        {
          "output_type": "stream",
          "name": "stderr",
          "text": [
            "100%|██████████| 79/79 [00:02<00:00, 38.70it/s]\n"
          ]
        },
        {
          "output_type": "stream",
          "name": "stdout",
          "text": [
            "Testing accuracy: 0.9907\n",
            "Epoch: 9/10\n"
          ]
        },
        {
          "output_type": "stream",
          "name": "stderr",
          "text": [
            "100%|██████████| 469/469 [00:11<00:00, 40.85it/s]\n"
          ]
        },
        {
          "output_type": "stream",
          "name": "stdout",
          "text": [
            "Training accuracy: 0.9945\n"
          ]
        },
        {
          "output_type": "stream",
          "name": "stderr",
          "text": [
            "100%|██████████| 79/79 [00:01<00:00, 43.75it/s]\n"
          ]
        },
        {
          "output_type": "stream",
          "name": "stdout",
          "text": [
            "Testing accuracy: 0.9890\n",
            "Epoch: 10/10\n"
          ]
        },
        {
          "output_type": "stream",
          "name": "stderr",
          "text": [
            "100%|██████████| 469/469 [00:10<00:00, 43.78it/s]\n"
          ]
        },
        {
          "output_type": "stream",
          "name": "stdout",
          "text": [
            "Training accuracy: 0.9948\n"
          ]
        },
        {
          "output_type": "stream",
          "name": "stderr",
          "text": [
            "100%|██████████| 79/79 [00:01<00:00, 44.02it/s]"
          ]
        },
        {
          "output_type": "stream",
          "name": "stdout",
          "text": [
            "Testing accuracy: 0.9905\n"
          ]
        },
        {
          "output_type": "stream",
          "name": "stderr",
          "text": [
            "\n"
          ]
        }
      ],
      "source": [
        "epochs = 10 # The total number of iterations\n",
        "\n",
        "#TODO: verify/vary optimizer parameters?\n",
        "optimizer = optim.SGD(model.parameters(), lr=0.01, momentum=0.9)\n",
        "criterion = nn.CrossEntropyLoss()\n",
        "\n",
        "def train(mode, dataloader, model, device):\n",
        "    total_loss = 0\n",
        "    correct = 0\n",
        "    total = 0\n",
        "    for image, label in tqdm.tqdm(dataloader):\n",
        "        image, label = image.to(device), label.to(device)\n",
        "        if mode == \"train\":\n",
        "            model.train()\n",
        "        else:\n",
        "            model.eval()\n",
        "        \n",
        "        if mode == \"train\":\n",
        "            optimizer.zero_grad(set_to_none=True) # Clear gradients\n",
        "        output = model(image) # Forward propagation\n",
        "        loss = criterion(output, label) # Cross entropy loss\n",
        "        total_loss += loss.item()\n",
        "\n",
        "        if mode == \"train\":\n",
        "            loss.backward() # Calculating gradients\n",
        "            optimizer.step() # Backpropagation: update parameters            \n",
        "\n",
        "        pred = output.max(1, keepdim=True)[1]\n",
        "        correct += pred.eq(label.view_as(pred)).sum().item()\n",
        "        total += image.shape[0]\n",
        "    return total_loss/len(testloader), correct/total\n",
        "    \n",
        "train_accuracies = []\n",
        "train_losses = []\n",
        "valid_accuracies = []\n",
        "valid_losses = []\n",
        "for epoch in range(epochs):\n",
        "    print(f\"Epoch: {epoch+1}/{epochs}\")\n",
        "    train_loss, train_accuracy = train(\"train\", trainloader, model, device)\n",
        "    train_accuracies.append(train_accuracy)\n",
        "    train_losses.append(train_loss)\n",
        "    print(f\"Training accuracy: {train_accuracy:.4f}\")\n",
        "    with torch.no_grad():\n",
        "        valid_loss, valid_accuracy = train(\"valid\", testloader, model, device)\n",
        "        valid_accuracies.append(valid_accuracy)\n",
        "        valid_losses.append(valid_loss)\n",
        "        print(f\"Testing accuracy: {valid_accuracy:.4f}\")\n"
      ]
    },
    {
      "cell_type": "markdown",
      "metadata": {
        "id": "ll4FKg-HR_35"
      },
      "source": [
        "Plot Data"
      ]
    },
    {
      "cell_type": "code",
      "execution_count": null,
      "metadata": {
        "colab": {
          "base_uri": "https://localhost:8080/",
          "height": 573
        },
        "id": "cbEjP2eR7Qcx",
        "outputId": "1ddf6f52-927e-4675-f5f0-c7bebe19a7d0"
      },
      "outputs": [
        {
          "output_type": "display_data",
          "data": {
            "text/plain": [
              "<Figure size 432x288 with 1 Axes>"
            ],
            "image/png": "[encoded data removed]"
          },
          "metadata": {
            "needs_background": "light"
          }
        },
        {
          "output_type": "display_data",
          "data": {
            "text/plain": [
              "<Figure size 432x288 with 1 Axes>"
            ],
            "image/png": "[encoded data removed]"
          },
          "metadata": {
            "needs_background": "light"
          }
        }
      ],
      "source": [
        "plt.title(\"Losses\")\n",
        "plt.plot(train_losses, label='Training')\n",
        "plt.plot(valid_losses, label='Validation')\n",
        "plt.xlabel(\"Iterations\")\n",
        "plt.ylabel(\"Loss\")\n",
        "plt.legend()\n",
        "plt.show()\n",
        "\n",
        "plt.title(\"Accuracy\")\n",
        "plt.plot(train_accuracies, label='Training')\n",
        "plt.plot(valid_accuracies, label='Validation')\n",
        "plt.xlabel(\"Iterations\")\n",
        "plt.ylabel(\"Accuracy\")\n",
        "plt.legend()\n",
        "plt.show()"
      ]
    },
    {
      "cell_type": "markdown",
      "metadata": {
        "id": "sJCMj2RMSEWX"
      },
      "source": [
        "Prediction Example (delete later)"
      ]
    },
    {
      "cell_type": "code",
      "execution_count": null,
      "metadata": {
        "colab": {
          "base_uri": "https://localhost:8080/",
          "height": 305
        },
        "id": "jKL6n1KN7WZ_",
        "outputId": "1331c7f6-2612-4c6e-9089-f42cb3bbf17d"
      },
      "outputs": [
        {
          "output_type": "stream",
          "name": "stdout",
          "text": [
            "torch.Size([1, 1, 28, 28])\n",
            "[2.7403939e-08 3.0084596e-08 4.0829215e-10 9.0798331e-08 8.6855367e-03\n",
            " 2.0803887e-08 1.1205823e-09 8.2536673e-05 9.3244553e-06 9.9122250e-01]\n"
          ]
        },
        {
          "output_type": "display_data",
          "data": {
            "text/plain": [
              "<Figure size 432x576 with 2 Axes>"
            ],
            "image/png": "[encoded data removed]"
          },
          "metadata": {
            "needs_background": "light"
          }
        }
      ],
      "source": [
        "training_data = enumerate(trainloader)\n",
        "batch_idx, (images, labels) = next(training_data)\n",
        "\n",
        "img = images[0]\n",
        "img = img.to(device)\n",
        "img = img.view(-1, 1, 28, 28)\n",
        "print(img.shape)\n",
        "\n",
        "# Since we want to use the already pretrained weights to make some prediction\n",
        "# we are turning off the gradients\n",
        "with torch.no_grad():\n",
        "    logits = model.forward(img)\n",
        "\n",
        "# We take the softmax for probabilites since our outputs are logits\n",
        "probabilities = F.softmax(logits, dim=1).detach().cpu().numpy().squeeze()\n",
        "\n",
        "print(probabilities)\n",
        "\n",
        "fig, (ax1, ax2) = plt.subplots(figsize=(6,8), ncols=2)\n",
        "ax1.imshow(img.view(1, 28, 28).detach().cpu().numpy().squeeze(), cmap='inferno')\n",
        "ax1.axis('off')\n",
        "ax2.barh(np.arange(10), probabilities, color='r' )\n",
        "ax2.set_aspect(0.1)\n",
        "ax2.set_yticks(np.arange(10))\n",
        "ax2.set_yticklabels(np.arange(10))\n",
        "ax2.set_title('Class Probability')\n",
        "ax2.set_xlim(0, 1.1)\n",
        "\n",
        "plt.tight_layout()"
      ]
    }
  ],
  "metadata": {
    "accelerator": "GPU",
    "colab": {
      "provenance": [],
      "include_colab_link": true
    },
    "gpuClass": "standard",
    "kernelspec": {
      "display_name": "Python 3",
      "name": "python3"
    },
    "language_info": {
      "name": "python"
    }
  },
  "nbformat": 4,
  "nbformat_minor": 0
}