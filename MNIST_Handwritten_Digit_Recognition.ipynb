{
  "cells": [
    {
      "cell_type": "markdown",
      "metadata": {
        "id": "view-in-github",
        "colab_type": "text"
      },
      "source": [
        "<a href=\"https://colab.research.google.com/github/aaronachang/MNIST_Handwritten_Digit_Recognition_CNN/blob/master/MNIST_Handwritten_Digit_Recognition.ipynb\" target=\"_parent\"><img src=\"https://colab.research.google.com/assets/colab-badge.svg\" alt=\"Open In Colab\"/></a>"
      ]
    },
    {
      "cell_type": "markdown",
      "metadata": {
        "id": "T2OLmo9ARPR9"
      },
      "source": [
        "Imports"
      ]
    },
    {
      "cell_type": "code",
      "execution_count": 1,
      "metadata": {
        "id": "WrI7d_w64reR"
      },
      "outputs": [],
      "source": [
        "import numpy as np\n",
        "from matplotlib import pyplot as plt\n",
        "from torchvision import datasets, transforms\n",
        "\n",
        "import tqdm\n",
        "\n",
        "import torch\n",
        "from torch import nn\n",
        "from torch import optim\n",
        "import torch.nn.functional as F\n",
        "\n",
        "%matplotlib inline\n",
        "device = (\"cuda\" if torch.cuda.is_available() else \"cpu\")\n",
        "\n",
        "# Calculate mean & std\n",
        "unnormalized_train_set = datasets.MNIST('DATA_MNIST/', train=True, download=True, transform=[transforms.ToTensor()])\n",
        "mean = unnormalized_train_set.data.float().mean()/255\n",
        "std = unnormalized_train_set.data.float().std()/255\n",
        "\n",
        "transform = transforms.Compose([transforms.ToTensor(),\n",
        "                                transforms.Normalize((mean.item(),), (std.item(),))])\n",
        "\n",
        "train_set = datasets.MNIST('DATA_MNIST/', download=True, train=True, transform=transform)\n",
        "trainloader = torch.utils.data.DataLoader(train_set, batch_size=128, shuffle=True, pin_memory=True, num_workers=2)\n",
        "\n",
        "test_set = datasets.MNIST('DATA_MNIST/', download=True, train=False, transform=transform)\n",
        "testloader = torch.utils.data.DataLoader(test_set, batch_size=128, shuffle=False, pin_memory=True, num_workers=2)"
      ]
    },
    {
      "cell_type": "markdown",
      "metadata": {
        "id": "Y9c3oGqKOmhe"
      },
      "source": [
        "LeNet5 from http://yann.lecun.com/exdb/publis/pdf/lecun-98.pdf"
      ]
    },
    {
      "cell_type": "code",
      "execution_count": 2,
      "metadata": {
        "id": "JnfUVWQZGKmh"
      },
      "outputs": [],
      "source": [
        "class LeNet5(nn.Module):\n",
        "    def __init__(self):\n",
        "        super(LeNet5, self).__init__()\n",
        "        self.cnn_layers = nn.Sequential(\n",
        "            # formula[(in_channel + 2*padding - kernel_size) / stride] + 1\n",
        "            #1x28x28\n",
        "            nn.Conv2d(in_channels=1, out_channels=6, kernel_size=5, padding=2, stride=1), #6x28x28\n",
        "            nn.ReLU(),\n",
        "            nn.MaxPool2d(kernel_size=2),  #6x14x14\n",
        "            nn.Conv2d(in_channels=6, out_channels=16, kernel_size=5, padding=0, stride=1), #16x10x10\n",
        "            nn.ReLU(),\n",
        "            nn.MaxPool2d(kernel_size=2),  #16x5x5\n",
        "            nn.Conv2d(in_channels=16, out_channels=120, kernel_size=5, padding=0, stride=1), #120x1x1\n",
        "            nn.ReLU(),\n",
        "        )\n",
        "\n",
        "        self.linear_layers = nn.Sequential(\n",
        "            nn.Linear(in_features=120, out_features=84),          \n",
        "            nn.Dropout(p=0.2), # Dropout with probability of 0.2 to avoid overfitting\n",
        "            nn.Linear(in_features=84, out_features=10)\n",
        "        )\n",
        "\n",
        "    def forward(self, x):\n",
        "        x = self.cnn_layers(x)\n",
        "        x = x.view(x.size(0), -1)\n",
        "        x = self.linear_layers(x)\n",
        "        return x"
      ]
    },
    {
      "cell_type": "code",
      "source": [
        "class BespokeCNN(nn.Module):\n",
        "    def __init__(self):\n",
        "        super(BespokeCNN, self).__init__()\n",
        "        self.cnn_layers = nn.Sequential(\n",
        "            # formula[(in_channel + 2*padding - kernel_size) / stride] + 1\n",
        "            #1x28x28\n",
        "            nn.Conv2d(in_channels=1, out_channels=32, kernel_size=3, padding=0, stride=1), #16x26x26\n",
        "            nn.ReLU(),\n",
        "            nn.Conv2d(in_channels=32, out_channels=64, kernel_size=3, padding=0, stride=1), #32x24x24\n",
        "            nn.ReLU(),\n",
        "            nn.MaxPool2d(kernel_size=2),  #32x12x12\n",
        "            nn.Conv2d(in_channels=64, out_channels=256, kernel_size=3, padding=0, stride=1), #64x10x10\n",
        "            nn.ReLU(),\n",
        "            nn.Conv2d(in_channels=256, out_channels=512, kernel_size=3, padding=0, stride=1), #128x8x8\n",
        "            nn.ReLU(),\n",
        "            nn.MaxPool2d(kernel_size=2),  #256x4x4\n",
        "        )\n",
        "\n",
        "        self.linear_layers = nn.Sequential(\n",
        "            nn.Linear(in_features=512*4*4, out_features=64),          \n",
        "            nn.Dropout(p=0.2), # Dropout with probability of 0.2 to avoid overfitting\n",
        "            nn.Linear(in_features=64, out_features=10)\n",
        "        )\n",
        "\n",
        "    def forward(self, x):\n",
        "        x = self.cnn_layers(x)\n",
        "        x = x.view(x.size(0), -1)\n",
        "        x = self.linear_layers(x)\n",
        "        return x"
      ],
      "metadata": {
        "id": "xcolLm_VRXXD"
      },
      "execution_count": 3,
      "outputs": []
    },
    {
      "cell_type": "markdown",
      "metadata": {
        "id": "UDajwx1NR1Lp"
      },
      "source": [
        "Initialize CNN Model"
      ]
    },
    {
      "cell_type": "code",
      "execution_count": 4,
      "metadata": {
        "colab": {
          "base_uri": "https://localhost:8080/"
        },
        "id": "pwrb3R8Z7E85",
        "outputId": "1e43ee71-5f64-4025-e8bb-10cd02c2fe57"
      },
      "outputs": [
        {
          "output_type": "stream",
          "name": "stdout",
          "text": [
            "LeNet5(\n",
            "  (cnn_layers): Sequential(\n",
            "    (0): Conv2d(1, 6, kernel_size=(5, 5), stride=(1, 1), padding=(2, 2))\n",
            "    (1): ReLU()\n",
            "    (2): MaxPool2d(kernel_size=2, stride=2, padding=0, dilation=1, ceil_mode=False)\n",
            "    (3): Conv2d(6, 16, kernel_size=(5, 5), stride=(1, 1))\n",
            "    (4): ReLU()\n",
            "    (5): MaxPool2d(kernel_size=2, stride=2, padding=0, dilation=1, ceil_mode=False)\n",
            "    (6): Conv2d(16, 120, kernel_size=(5, 5), stride=(1, 1))\n",
            "    (7): ReLU()\n",
            "  )\n",
            "  (linear_layers): Sequential(\n",
            "    (0): Linear(in_features=120, out_features=84, bias=True)\n",
            "    (1): Dropout(p=0.2, inplace=False)\n",
            "    (2): Linear(in_features=84, out_features=10, bias=True)\n",
            "  )\n",
            ")\n"
          ]
        }
      ],
      "source": [
        "model = LeNet5()\n",
        "#model = BespokeCNN()\n",
        "model.to(device)\n",
        "print(model)"
      ]
    },
    {
      "cell_type": "markdown",
      "metadata": {
        "id": "5gGe_NPLR4GN"
      },
      "source": [
        "Train Model"
      ]
    },
    {
      "cell_type": "code",
      "execution_count": 5,
      "metadata": {
        "colab": {
          "base_uri": "https://localhost:8080/"
        },
        "id": "rZUtL4a37Ldh",
        "outputId": "34042e91-10f0-41d1-e4c8-1808059910b8"
      },
      "outputs": [
        {
          "output_type": "stream",
          "name": "stdout",
          "text": [
            "Epoch: 1/10\n"
          ]
        },
        {
          "output_type": "stream",
          "name": "stderr",
          "text": [
            "100%|██████████| 469/469 [00:20<00:00, 22.90it/s]\n"
          ]
        },
        {
          "output_type": "stream",
          "name": "stdout",
          "text": [
            "Training accuracy: 0.8714\n"
          ]
        },
        {
          "output_type": "stream",
          "name": "stderr",
          "text": [
            "100%|██████████| 79/79 [00:01<00:00, 39.64it/s]\n"
          ]
        },
        {
          "output_type": "stream",
          "name": "stdout",
          "text": [
            "Testing accuracy: 0.9728\n",
            "Epoch: 2/10\n"
          ]
        },
        {
          "output_type": "stream",
          "name": "stderr",
          "text": [
            "100%|██████████| 469/469 [00:10<00:00, 42.86it/s]\n"
          ]
        },
        {
          "output_type": "stream",
          "name": "stdout",
          "text": [
            "Training accuracy: 0.9749\n"
          ]
        },
        {
          "output_type": "stream",
          "name": "stderr",
          "text": [
            "100%|██████████| 79/79 [00:01<00:00, 42.92it/s]\n"
          ]
        },
        {
          "output_type": "stream",
          "name": "stdout",
          "text": [
            "Testing accuracy: 0.9844\n",
            "Epoch: 3/10\n"
          ]
        },
        {
          "output_type": "stream",
          "name": "stderr",
          "text": [
            "100%|██████████| 469/469 [00:10<00:00, 44.00it/s]\n"
          ]
        },
        {
          "output_type": "stream",
          "name": "stdout",
          "text": [
            "Training accuracy: 0.9830\n"
          ]
        },
        {
          "output_type": "stream",
          "name": "stderr",
          "text": [
            "100%|██████████| 79/79 [00:01<00:00, 41.89it/s]\n"
          ]
        },
        {
          "output_type": "stream",
          "name": "stdout",
          "text": [
            "Testing accuracy: 0.9863\n",
            "Epoch: 4/10\n"
          ]
        },
        {
          "output_type": "stream",
          "name": "stderr",
          "text": [
            "100%|██████████| 469/469 [00:10<00:00, 43.71it/s]\n"
          ]
        },
        {
          "output_type": "stream",
          "name": "stdout",
          "text": [
            "Training accuracy: 0.9863\n"
          ]
        },
        {
          "output_type": "stream",
          "name": "stderr",
          "text": [
            "100%|██████████| 79/79 [00:01<00:00, 44.82it/s]\n"
          ]
        },
        {
          "output_type": "stream",
          "name": "stdout",
          "text": [
            "Testing accuracy: 0.9876\n",
            "Epoch: 5/10\n"
          ]
        },
        {
          "output_type": "stream",
          "name": "stderr",
          "text": [
            "100%|██████████| 469/469 [00:10<00:00, 43.69it/s]\n"
          ]
        },
        {
          "output_type": "stream",
          "name": "stdout",
          "text": [
            "Training accuracy: 0.9887\n"
          ]
        },
        {
          "output_type": "stream",
          "name": "stderr",
          "text": [
            "100%|██████████| 79/79 [00:01<00:00, 43.12it/s]\n"
          ]
        },
        {
          "output_type": "stream",
          "name": "stdout",
          "text": [
            "Testing accuracy: 0.9879\n",
            "Epoch: 6/10\n"
          ]
        },
        {
          "output_type": "stream",
          "name": "stderr",
          "text": [
            "100%|██████████| 469/469 [00:10<00:00, 43.42it/s]\n"
          ]
        },
        {
          "output_type": "stream",
          "name": "stdout",
          "text": [
            "Training accuracy: 0.9905\n"
          ]
        },
        {
          "output_type": "stream",
          "name": "stderr",
          "text": [
            "100%|██████████| 79/79 [00:01<00:00, 42.98it/s]\n"
          ]
        },
        {
          "output_type": "stream",
          "name": "stdout",
          "text": [
            "Testing accuracy: 0.9876\n",
            "Epoch: 7/10\n"
          ]
        },
        {
          "output_type": "stream",
          "name": "stderr",
          "text": [
            "100%|██████████| 469/469 [00:11<00:00, 39.54it/s]\n"
          ]
        },
        {
          "output_type": "stream",
          "name": "stdout",
          "text": [
            "Training accuracy: 0.9917\n"
          ]
        },
        {
          "output_type": "stream",
          "name": "stderr",
          "text": [
            "100%|██████████| 79/79 [00:01<00:00, 43.85it/s]\n"
          ]
        },
        {
          "output_type": "stream",
          "name": "stdout",
          "text": [
            "Testing accuracy: 0.9890\n",
            "Epoch: 8/10\n"
          ]
        },
        {
          "output_type": "stream",
          "name": "stderr",
          "text": [
            "100%|██████████| 469/469 [00:10<00:00, 43.26it/s]\n"
          ]
        },
        {
          "output_type": "stream",
          "name": "stdout",
          "text": [
            "Training accuracy: 0.9927\n"
          ]
        },
        {
          "output_type": "stream",
          "name": "stderr",
          "text": [
            "100%|██████████| 79/79 [00:01<00:00, 44.02it/s]\n"
          ]
        },
        {
          "output_type": "stream",
          "name": "stdout",
          "text": [
            "Testing accuracy: 0.9911\n",
            "Epoch: 9/10\n"
          ]
        },
        {
          "output_type": "stream",
          "name": "stderr",
          "text": [
            "100%|██████████| 469/469 [00:11<00:00, 39.84it/s]\n"
          ]
        },
        {
          "output_type": "stream",
          "name": "stdout",
          "text": [
            "Training accuracy: 0.9939\n"
          ]
        },
        {
          "output_type": "stream",
          "name": "stderr",
          "text": [
            "100%|██████████| 79/79 [00:01<00:00, 42.98it/s]\n"
          ]
        },
        {
          "output_type": "stream",
          "name": "stdout",
          "text": [
            "Testing accuracy: 0.9918\n",
            "Epoch: 10/10\n"
          ]
        },
        {
          "output_type": "stream",
          "name": "stderr",
          "text": [
            "100%|██████████| 469/469 [00:10<00:00, 43.13it/s]\n"
          ]
        },
        {
          "output_type": "stream",
          "name": "stdout",
          "text": [
            "Training accuracy: 0.9947\n"
          ]
        },
        {
          "output_type": "stream",
          "name": "stderr",
          "text": [
            "100%|██████████| 79/79 [00:01<00:00, 43.22it/s]"
          ]
        },
        {
          "output_type": "stream",
          "name": "stdout",
          "text": [
            "Testing accuracy: 0.9918\n"
          ]
        },
        {
          "output_type": "stream",
          "name": "stderr",
          "text": [
            "\n"
          ]
        }
      ],
      "source": [
        "epochs = 10 # The total number of iterations\n",
        "\n",
        "#TODO: verify/vary optimizer parameters?\n",
        "optimizer = optim.SGD(model.parameters(), lr=0.01, momentum=0.9)\n",
        "criterion = nn.CrossEntropyLoss()\n",
        "\n",
        "def train(mode, dataloader, model, device):\n",
        "    total_loss = 0\n",
        "    correct = 0\n",
        "    total = 0\n",
        "    for image, label in tqdm.tqdm(dataloader):\n",
        "        image, label = image.to(device), label.to(device)\n",
        "        if mode == \"train\":\n",
        "            model.train()\n",
        "        else:\n",
        "            model.eval()\n",
        "        \n",
        "        if mode == \"train\":\n",
        "            optimizer.zero_grad(set_to_none=True) # Clear gradients\n",
        "        output = model(image) # Forward propagation\n",
        "        loss = criterion(output, label) # Cross entropy loss\n",
        "        total_loss += loss.item()\n",
        "\n",
        "        if mode == \"train\":\n",
        "            loss.backward() # Calculating gradients\n",
        "            optimizer.step() # Backpropagation: update parameters            \n",
        "\n",
        "        pred = output.max(1, keepdim=True)[1]\n",
        "        correct += pred.eq(label.view_as(pred)).sum().item()\n",
        "        total += image.shape[0]\n",
        "    return total_loss/len(testloader), correct/total\n",
        "    \n",
        "train_accuracies = []\n",
        "train_losses = []\n",
        "valid_accuracies = []\n",
        "valid_losses = []\n",
        "for epoch in range(epochs):\n",
        "    print(f\"Epoch: {epoch+1}/{epochs}\")\n",
        "    train_loss, train_accuracy = train(\"train\", trainloader, model, device)\n",
        "    train_accuracies.append(train_accuracy)\n",
        "    train_losses.append(train_loss)\n",
        "    print(f\"Training accuracy: {train_accuracy:.4f}\")\n",
        "    with torch.no_grad():\n",
        "        valid_loss, valid_accuracy = train(\"valid\", testloader, model, device)\n",
        "        valid_accuracies.append(valid_accuracy)\n",
        "        valid_losses.append(valid_loss)\n",
        "        print(f\"Testing accuracy: {valid_accuracy:.4f}\")\n"
      ]
    },
    {
      "cell_type": "markdown",
      "metadata": {
        "id": "ll4FKg-HR_35"
      },
      "source": [
        "Plot Data"
      ]
    },
    {
      "cell_type": "code",
      "execution_count": 6,
      "metadata": {
        "colab": {
          "base_uri": "https://localhost:8080/",
          "height": 573
        },
        "id": "cbEjP2eR7Qcx",
        "outputId": "7dc6cda1-c5a9-488c-ef62-11a3ced94ba9"
      },
      "outputs": [
        {
          "output_type": "display_data",
          "data": {
            "text/plain": [
              "<Figure size 432x288 with 1 Axes>"
            ],
            "image/png": "[encoded data removed]"
          },
          "metadata": {
            "needs_background": "light"
          }
        },
        {
          "output_type": "display_data",
          "data": {
            "text/plain": [
              "<Figure size 432x288 with 1 Axes>"
            ],
            "image/png": "[encoded data removed]"
          },
          "metadata": {
            "needs_background": "light"
          }
        }
      ],
      "source": [
        "plt.title(\"Losses\")\n",
        "plt.plot(train_losses, label='Training')\n",
        "plt.plot(valid_losses, label='Validation')\n",
        "plt.xlabel(\"Iterations\")\n",
        "plt.ylabel(\"Loss\")\n",
        "plt.legend()\n",
        "plt.show()\n",
        "\n",
        "plt.title(\"Accuracy\")\n",
        "plt.plot(train_accuracies, label='Training')\n",
        "plt.plot(valid_accuracies, label='Validation')\n",
        "plt.xlabel(\"Iterations\")\n",
        "plt.ylabel(\"Accuracy\")\n",
        "plt.legend()\n",
        "plt.show()"
      ]
    },
    {
      "cell_type": "markdown",
      "metadata": {
        "id": "sJCMj2RMSEWX"
      },
      "source": [
        "Prediction Example (delete later)"
      ]
    },
    {
      "cell_type": "code",
      "execution_count": 7,
      "metadata": {
        "colab": {
          "base_uri": "https://localhost:8080/",
          "height": 322
        },
        "id": "jKL6n1KN7WZ_",
        "outputId": "4573c1ae-a488-409d-fded-8fb0fb9901a8"
      },
      "outputs": [
        {
          "output_type": "stream",
          "name": "stdout",
          "text": [
            "torch.Size([1, 1, 28, 28])\n",
            "[3.50191924e-11 1.09467035e-09 9.99999881e-01 4.38932410e-08\n",
            " 1.38753009e-09 4.88314325e-14 8.68062620e-13 5.62606539e-09\n",
            " 8.49750137e-08 1.00099704e-13]\n"
          ]
        },
        {
          "output_type": "display_data",
          "data": {
            "text/plain": [
              "<Figure size 432x576 with 2 Axes>"
            ],
            "image/png": "[encoded data removed]"
          },
          "metadata": {
            "needs_background": "light"
          }
        }
      ],
      "source": [
        "training_data = enumerate(trainloader)\n",
        "batch_idx, (images, labels) = next(training_data)\n",
        "\n",
        "img = images[0]\n",
        "img = img.to(device)\n",
        "img = img.view(-1, 1, 28, 28)\n",
        "print(img.shape)\n",
        "\n",
        "# Since we want to use the already pretrained weights to make some prediction\n",
        "# we are turning off the gradients\n",
        "with torch.no_grad():\n",
        "    logits = model.forward(img)\n",
        "\n",
        "# We take the softmax for probabilites since our outputs are logits\n",
        "probabilities = F.softmax(logits, dim=1).detach().cpu().numpy().squeeze()\n",
        "\n",
        "print(probabilities)\n",
        "\n",
        "fig, (ax1, ax2) = plt.subplots(figsize=(6,8), ncols=2)\n",
        "ax1.imshow(img.view(1, 28, 28).detach().cpu().numpy().squeeze(), cmap='inferno')\n",
        "ax1.axis('off')\n",
        "ax2.barh(np.arange(10), probabilities, color='r' )\n",
        "ax2.set_aspect(0.1)\n",
        "ax2.set_yticks(np.arange(10))\n",
        "ax2.set_yticklabels(np.arange(10))\n",
        "ax2.set_title('Class Probability')\n",
        "ax2.set_xlim(0, 1.1)\n",
        "\n",
        "plt.tight_layout()"
      ]
    }
  ],
  "metadata": {
    "accelerator": "GPU",
    "colab": {
      "provenance": [],
      "include_colab_link": true
    },
    "gpuClass": "standard",
    "kernelspec": {
      "display_name": "Python 3",
      "name": "python3"
    },
    "language_info": {
      "name": "python"
    }
  },
  "nbformat": 4,
  "nbformat_minor": 0
}